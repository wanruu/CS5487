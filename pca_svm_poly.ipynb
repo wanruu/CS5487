{
  "nbformat": 4,
  "nbformat_minor": 0,
  "metadata": {
    "colab": {
      "provenance": [],
      "mount_file_id": "1xJ6SMFldUpx5ltQcRC4WUscYuw-Dt4ui",
      "authorship_tag": "ABX9TyMe7KyED1Qrn4096gCjNs7Y",
      "include_colab_link": true
    },
    "kernelspec": {
      "name": "python3",
      "display_name": "Python 3"
    },
    "language_info": {
      "name": "python"
    }
  },
  "cells": [
    {
      "cell_type": "markdown",
      "metadata": {
        "id": "view-in-github",
        "colab_type": "text"
      },
      "source": [
        "<a href=\"https://colab.research.google.com/github/wanruu/CS5487/blob/main/pca_svm_poly.ipynb\" target=\"_parent\"><img src=\"https://colab.research.google.com/assets/colab-badge.svg\" alt=\"Open In Colab\"/></a>"
      ]
    },
    {
      "cell_type": "code",
      "execution_count": 1,
      "metadata": {
        "id": "9YnawcjunUGK"
      },
      "outputs": [],
      "source": [
        "from sklearn import svm\n",
        "import numpy as np\n",
        "from sklearn.model_selection import train_test_split\n",
        "from sklearn.model_selection import cross_val_score\n",
        "from sklearn.utils import shuffle\n",
        "from sklearn.model_selection import RepeatedKFold\n",
        "\n",
        "\n",
        "from sklearn.cluster import KMeans\n",
        "from sklearn.decomposition import PCA\n",
        "from sklearn.metrics.cluster import contingency_matrix\n",
        "\n",
        "import matplotlib.pyplot as plt\n",
        "import tqdm"
      ]
    },
    {
      "cell_type": "code",
      "source": [
        "vecs=np.loadtxt('/content/drive/MyDrive/Colab_Notebooks/digits4000_txt/digits4000_digits_vec.txt')\n",
        "labels=np.loadtxt('/content/drive/MyDrive/Colab_Notebooks/digits4000_txt/digits4000_digits_labels.txt')\n",
        "train_data=vecs[:2000]\n",
        "test_data=vecs[2000:]\n",
        "train_label=labels[:2000]\n",
        "test_label=labels[2000:]"
      ],
      "metadata": {
        "id": "RxkIjOWJnXur"
      },
      "execution_count": 2,
      "outputs": []
    },
    {
      "cell_type": "code",
      "source": [
        "pca_components=[]\n",
        "pca_train_acc=[]\n",
        "pca_test_acc=[]\n",
        "for i in tqdm.tqdm(range(300)):\n",
        "  pca_component=i+1\n",
        "  pca = PCA(n_components=pca_component)\n",
        "  pca_train_data = pca.fit_transform(train_data)\n",
        "  pca_test_data = pca.transform(test_data)\n",
        "\n",
        "  #shuffle\n",
        "  pca_train_data, pca_train_label = shuffle(pca_train_data, train_label, random_state=123)\n",
        "  pca_test_data, pca_test_label = shuffle(pca_test_data, test_label, random_state=123)\n",
        "  \n",
        "  #svm with 'rbf' kernel C=4\n",
        "  #svm with 'poly' kernel C=10\n",
        "  #svm with 'sigmoid' kernel C=0.4\n",
        "  #svm with 'linear' kernel C=any\n",
        "  classifier = svm.SVC(degree=2,C=10,kernel='poly')\n",
        "  classifier.fit(pca_train_data, pca_train_label)\n",
        "\n",
        "  pca_components.append(pca_component)# # of eigenvalues\n",
        "  pca_train_acc.append(classifier.score(pca_train_data, pca_train_label))# train_acc\n",
        "  pca_test_acc.append(classifier.score(pca_test_data, pca_test_label))# test_acc\n",
        "\n",
        "plt.figure(figsize=(10, 10))\n",
        "plt.plot(pca_components,pca_train_acc,label='train')\n",
        "plt.plot(pca_components,pca_test_acc,label='test')\n",
        "plt.xlabel('pca_components')\n",
        "plt.ylabel('acc')\n",
        "plt.title('pca_poly')\n",
        "plt.legend()\n",
        "plt.show\n",
        "\n",
        "#best pca\n",
        "idx=pca_test_acc.index(max(pca_test_acc))\n",
        "print([pca_components[idx],pca_train_acc[idx],max(pca_test_acc)])\n"
      ],
      "metadata": {
        "id": "iH9hlihBnXw8",
        "colab": {
          "base_uri": "https://localhost:8080/",
          "height": 658
        },
        "outputId": "9814900a-5a41-429b-c038-b11f60be0cb2"
      },
      "execution_count": null,
      "outputs": [
        {
          "output_type": "stream",
          "name": "stderr",
          "text": [
            "100%|██████████| 300/300 [05:56<00:00,  1.19s/it]\n"
          ]
        },
        {
          "output_type": "stream",
          "name": "stdout",
          "text": [
            "[143, 1.0, 0.9415]\n"
          ]
        },
        {
          "output_type": "display_data",
          "data": {
            "text/plain": [
              "<Figure size 720x720 with 1 Axes>"
            ],
            "image/png": "[encoded data removed]"
          },
          "metadata": {
            "needs_background": "light"
          }
        }
      ]
    },
    {
      "cell_type": "code",
      "source": [
        "pca_components=[]\n",
        "pca_train_acc=[]\n",
        "pca_test_acc=[]\n",
        "for i in tqdm.tqdm(range(300)):\n",
        "  pca_component=i+1\n",
        "  pca = PCA(n_components=pca_component)\n",
        "  pca_train_data = pca.fit_transform(train_data)\n",
        "  pca_test_data = pca.transform(test_data)\n",
        "\n",
        "  #shuffle\n",
        "  pca_train_data, pca_train_label = shuffle(pca_train_data, train_label, random_state=123)\n",
        "  pca_test_data, pca_test_label = shuffle(pca_test_data, test_label, random_state=123)\n",
        "  \n",
        "  #svm with 'rbf' kernel C=4\n",
        "  #svm with 'poly' kernel C=10\n",
        "  #svm with 'sigmoid' kernel C=0.4\n",
        "  #svm with 'linear' kernel C=any\n",
        "  classifier = svm.SVC(degree=3,C=10,kernel='poly')\n",
        "  classifier.fit(pca_train_data, pca_train_label)\n",
        "\n",
        "  pca_components.append(pca_component)# # of eigenvalues\n",
        "  pca_train_acc.append(classifier.score(pca_train_data, pca_train_label))# train_acc\n",
        "  pca_test_acc.append(classifier.score(pca_test_data, pca_test_label))# test_acc\n",
        "\n",
        "plt.figure(figsize=(10, 10))\n",
        "plt.plot(pca_components,pca_train_acc,label='train')\n",
        "plt.plot(pca_components,pca_test_acc,label='test')\n",
        "plt.xlabel('pca_components')\n",
        "plt.ylabel('acc')\n",
        "plt.title('pca_poly')\n",
        "plt.legend()\n",
        "plt.show\n",
        "\n",
        "#best pca\n",
        "idx=pca_test_acc.index(max(pca_test_acc))\n",
        "print([pca_components[idx],pca_train_acc[idx],max(pca_test_acc)])\n"
      ],
      "metadata": {
        "colab": {
          "base_uri": "https://localhost:8080/",
          "height": 658
        },
        "id": "UOwN15S7uYBR",
        "outputId": "d8ff6fce-557f-4b2e-a6ba-e13e7ed19dc3"
      },
      "execution_count": null,
      "outputs": [
        {
          "output_type": "stream",
          "name": "stderr",
          "text": [
            "100%|██████████| 300/300 [06:38<00:00,  1.33s/it]\n"
          ]
        },
        {
          "output_type": "stream",
          "name": "stdout",
          "text": [
            "[253, 1.0, 0.948]\n"
          ]
        },
        {
          "output_type": "display_data",
          "data": {
            "text/plain": [
              "<Figure size 720x720 with 1 Axes>"
            ],
            "image/png": "[encoded data removed]"
          },
          "metadata": {
            "needs_background": "light"
          }
        }
      ]
    },
    {
      "cell_type": "code",
      "source": [
        "#trial2 degree=2\n",
        "train_data=vecs[2000:]\n",
        "test_data=vecs[:2000]\n",
        "train_label=labels[2000:]\n",
        "test_label=labels[:2000]\n",
        "\n",
        "pca_component=143\n",
        "  \n",
        "pca = PCA(n_components=pca_component)\n",
        "pca_train_data = pca.fit_transform(train_data)\n",
        "pca_test_data = pca.transform(test_data)\n",
        "\n",
        "#shuffle\n",
        "pca_train_data, pca_train_label = shuffle(pca_train_data, train_label, random_state=123)\n",
        "pca_test_data, pca_test_label = shuffle(pca_test_data, test_label, random_state=123)\n",
        "  \n",
        "  #svm with 'rbf' kernel C=4\n",
        "  #svm with 'poly' kernel C=10\n",
        "  #svm with 'sigmoid' kernel C=0.4\n",
        "  #svm with 'linear' kernel C=any\n",
        "classifier = svm.SVC(degree=2,C=10,kernel='poly')\n",
        "classifier.fit(pca_train_data, pca_train_label)\n",
        "\n",
        "\n",
        "print('train_acc')\n",
        "print(classifier.score(pca_train_data, pca_train_label))# train_acc\n",
        "print('test_acc')\n",
        "print(classifier.score(pca_test_data, pca_test_label))# test_acc\n"
      ],
      "metadata": {
        "colab": {
          "base_uri": "https://localhost:8080/"
        },
        "id": "G3PFhloR62Mi",
        "outputId": "ba0859c3-0ece-4312-ac30-eaf186032845"
      },
      "execution_count": 8,
      "outputs": [
        {
          "output_type": "stream",
          "name": "stdout",
          "text": [
            "train_acc\n",
            "1.0\n",
            "test_acc\n",
            "0.944\n"
          ]
        }
      ]
    },
    {
      "cell_type": "code",
      "source": [
        "#trial2 degree=3\n",
        "train_data=vecs[2000:]\n",
        "test_data=vecs[:2000]\n",
        "train_label=labels[2000:]\n",
        "test_label=labels[:2000]\n",
        "\n",
        "pca_component=253\n",
        "  \n",
        "pca = PCA(n_components=pca_component)\n",
        "pca_train_data = pca.fit_transform(train_data)\n",
        "pca_test_data = pca.transform(test_data)\n",
        "\n",
        "#shuffle\n",
        "pca_train_data, pca_train_label = shuffle(pca_train_data, train_label, random_state=123)\n",
        "pca_test_data, pca_test_label = shuffle(pca_test_data, test_label, random_state=123)\n",
        "  \n",
        "  #svm with 'rbf' kernel C=4\n",
        "  #svm with 'poly' kernel C=10\n",
        "  #svm with 'sigmoid' kernel C=0.4\n",
        "  #svm with 'linear' kernel C=any\n",
        "classifier = svm.SVC(degree=3,C=10,kernel='poly')\n",
        "classifier.fit(pca_train_data, pca_train_label)\n",
        "\n",
        "\n",
        "print('train_acc')\n",
        "print(classifier.score(pca_train_data, pca_train_label))# train_acc\n",
        "print('test_acc')\n",
        "print(classifier.score(pca_test_data, pca_test_label))# test_acc"
      ],
      "metadata": {
        "colab": {
          "base_uri": "https://localhost:8080/"
        },
        "id": "NJU5glRz62b1",
        "outputId": "c3a6cb77-27ee-49dc-84b8-ea42611d57e5"
      },
      "execution_count": 9,
      "outputs": [
        {
          "output_type": "stream",
          "name": "stdout",
          "text": [
            "train_acc\n",
            "1.0\n",
            "test_acc\n",
            "0.9485\n"
          ]
        }
      ]
    }
  ]
}