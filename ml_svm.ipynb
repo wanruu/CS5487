{
  "nbformat": 4,
  "nbformat_minor": 0,
  "metadata": {
    "colab": {
      "provenance": [],
      "mount_file_id": "1BOkLulwhTjP4XRwKlbpa9pgDtlF6Fm34",
      "authorship_tag": "ABX9TyOAX1G8tMk5AZUKc++mwKXy",
      "include_colab_link": true
    },
    "kernelspec": {
      "name": "python3",
      "display_name": "Python 3"
    },
    "language_info": {
      "name": "python"
    }
  },
  "cells": [
    {
      "cell_type": "markdown",
      "metadata": {
        "id": "view-in-github",
        "colab_type": "text"
      },
      "source": [
        "<a href=\"https://colab.research.google.com/github/wanruu/CS5487/blob/main/ml_svm.ipynb\" target=\"_parent\"><img src=\"https://colab.research.google.com/assets/colab-badge.svg\" alt=\"Open In Colab\"/></a>"
      ]
    },
    {
      "cell_type": "code",
      "source": [
        "from sklearn import svm\n",
        "import numpy as np\n",
        "from sklearn.model_selection import train_test_split\n",
        "from sklearn.model_selection import cross_val_score\n",
        "from sklearn.utils import shuffle\n",
        "from sklearn.model_selection import RepeatedKFold\n",
        "\n",
        "\n",
        "from sklearn.cluster import KMeans\n",
        "from sklearn.decomposition import PCA\n",
        "from sklearn.metrics.cluster import contingency_matrix\n",
        "\n",
        "import matplotlib.pyplot as plt\n",
        "import tqdm"
      ],
      "metadata": {
        "id": "WIDGDu5VAe6R"
      },
      "execution_count": 1,
      "outputs": []
    },
    {
      "cell_type": "code",
      "execution_count": 2,
      "metadata": {
        "id": "8ERxsdIr_7Ne"
      },
      "outputs": [],
      "source": [
        "vecs=np.loadtxt('/content/drive/MyDrive/Colab_Notebooks/digits4000_txt/digits4000_digits_vec.txt')\n",
        "labels=np.loadtxt('/content/drive/MyDrive/Colab_Notebooks/digits4000_txt/digits4000_digits_labels.txt')"
      ]
    },
    {
      "cell_type": "code",
      "source": [
        "vecs.shape"
      ],
      "metadata": {
        "colab": {
          "base_uri": "https://localhost:8080/"
        },
        "id": "DSqclzI8BzXX",
        "outputId": "ff8161fe-518e-4b6a-fee4-0c5f55dfeb7c"
      },
      "execution_count": null,
      "outputs": [
        {
          "output_type": "execute_result",
          "data": {
            "text/plain": [
              "(4000, 784)"
            ]
          },
          "metadata": {},
          "execution_count": 15
        }
      ]
    },
    {
      "cell_type": "code",
      "source": [
        "labels.shape"
      ],
      "metadata": {
        "colab": {
          "base_uri": "https://localhost:8080/"
        },
        "id": "HvmML7u7B1MT",
        "outputId": "03e29a33-cf40-46d9-aed2-c5ef5828d2df"
      },
      "execution_count": null,
      "outputs": [
        {
          "output_type": "execute_result",
          "data": {
            "text/plain": [
              "(4000,)"
            ]
          },
          "metadata": {},
          "execution_count": 16
        }
      ]
    },
    {
      "cell_type": "code",
      "source": [
        "#trail 1\n",
        "train_data=vecs[:2000]\n",
        "test_data=vecs[2000:]\n",
        "train_label=labels[:2000]\n",
        "test_label=labels[2000:]"
      ],
      "metadata": {
        "id": "MCtGBpNvDNTm"
      },
      "execution_count": null,
      "outputs": []
    },
    {
      "cell_type": "code",
      "source": [
        "#trail 2\n",
        "train_data=vecs[2000:]\n",
        "test_data=vecs[:2000]\n",
        "train_label=labels[2000:]\n",
        "test_label=labels[:2000]"
      ],
      "metadata": {
        "id": "1ZbkB_ns8wuF"
      },
      "execution_count": 3,
      "outputs": []
    },
    {
      "cell_type": "code",
      "source": [
        "test_data.shape"
      ],
      "metadata": {
        "colab": {
          "base_uri": "https://localhost:8080/"
        },
        "id": "12BSpuMRD2WW",
        "outputId": "b4a80cb2-43df-4144-ee84-42e15f018da5"
      },
      "execution_count": null,
      "outputs": [
        {
          "output_type": "execute_result",
          "data": {
            "text/plain": [
              "(2000, 784)"
            ]
          },
          "metadata": {},
          "execution_count": 42
        }
      ]
    },
    {
      "cell_type": "code",
      "source": [
        "train_data, train_label = shuffle(train_data, train_label, random_state=123)\n",
        "test_data, test_label = shuffle(test_data, test_label, random_state=123)"
      ],
      "metadata": {
        "id": "lLgNkIBBJsbT"
      },
      "execution_count": 4,
      "outputs": []
    },
    {
      "cell_type": "markdown",
      "source": [
        "trail 2 "
      ],
      "metadata": {
        "id": "nRohcGB49TSg"
      }
    },
    {
      "cell_type": "code",
      "source": [
        "classifier = svm.SVC(C=4,kernel='rbf')\n",
        "classifier.fit(train_data, train_label)\n",
        "print('rbf')\n",
        "print(\"train:\", classifier.score(train_data, train_label))\n",
        "print(\"test:\", classifier.score(test_data, test_label))\n"
      ],
      "metadata": {
        "colab": {
          "base_uri": "https://localhost:8080/"
        },
        "id": "V42QP7oNEFnV",
        "outputId": "b1a4df74-b6b2-4010-92f5-a2c533f6eb91"
      },
      "execution_count": 5,
      "outputs": [
        {
          "output_type": "stream",
          "name": "stdout",
          "text": [
            "rbf\n",
            "train: 1.0\n",
            "test: 0.9385\n"
          ]
        }
      ]
    },
    {
      "cell_type": "code",
      "source": [
        "classifier = svm.SVC(C=10,kernel='linear')\n",
        "classifier.fit(train_data, train_label)\n",
        "print('linear')\n",
        "print(\"train:\", classifier.score(train_data, train_label))\n",
        "print(\"test:\", classifier.score(test_data, test_label))"
      ],
      "metadata": {
        "colab": {
          "base_uri": "https://localhost:8080/"
        },
        "id": "pUgd0fcrN2vP",
        "outputId": "a2f4359f-41ee-4dcd-aa5b-580a9f505cd7"
      },
      "execution_count": 6,
      "outputs": [
        {
          "output_type": "stream",
          "name": "stdout",
          "text": [
            "linear\n",
            "train: 1.0\n",
            "test: 0.8995\n"
          ]
        }
      ]
    },
    {
      "cell_type": "code",
      "source": [
        "classifier = svm.SVC(C=10,kernel='poly')\n",
        "classifier.fit(train_data, train_label)\n",
        "print('poly')\n",
        "print(\"train:\", classifier.score(train_data, train_label))\n",
        "print(\"test:\", classifier.score(test_data, test_label))"
      ],
      "metadata": {
        "colab": {
          "base_uri": "https://localhost:8080/"
        },
        "id": "7brNIz1FN21O",
        "outputId": "567230f6-677d-4a7a-9163-f3072a832474"
      },
      "execution_count": 7,
      "outputs": [
        {
          "output_type": "stream",
          "name": "stdout",
          "text": [
            "poly\n",
            "train: 0.9995\n",
            "test: 0.9075\n"
          ]
        }
      ]
    },
    {
      "cell_type": "code",
      "source": [
        "classifier = svm.SVC(C=0.4,kernel='sigmoid')\n",
        "classifier.fit(train_data, train_label)\n",
        "print('sigmoid')\n",
        "print(\"train:\", classifier.score(train_data, train_label))\n",
        "print(\"test:\", classifier.score(test_data, test_label))"
      ],
      "metadata": {
        "colab": {
          "base_uri": "https://localhost:8080/"
        },
        "id": "5ou7gMBlN27U",
        "outputId": "8ea3c5a0-2245-46ad-e0d5-21d6979174d4"
      },
      "execution_count": 10,
      "outputs": [
        {
          "output_type": "stream",
          "name": "stdout",
          "text": [
            "sigmoid\n",
            "train: 0.8935\n",
            "test: 0.862\n"
          ]
        }
      ]
    },
    {
      "cell_type": "markdown",
      "source": [
        "trail 1"
      ],
      "metadata": {
        "id": "4FRy1Yl09ZBK"
      }
    },
    {
      "cell_type": "code",
      "source": [
        "c_rbf=[]\n",
        "train_acc_rbf=[]\n",
        "test_acc_rbf=[]\n",
        "for i in tqdm.tqdm(range(40)):\n",
        "  c=i/2+0.5\n",
        "  classifier = svm.SVC(C=c,kernel='rbf')\n",
        "  classifier.fit(train_data, train_label)\n",
        "  c_rbf.append(c)\n",
        "  train_acc_rbf.append(classifier.score(train_data, train_label))\n",
        "  test_acc_rbf.append(classifier.score(test_data, test_label))\n",
        "plt.figure(figsize=(10, 10))\n",
        "plt.plot(c_rbf,train_acc_rbf,label='train')\n",
        "plt.plot(c_rbf,test_acc_rbf,label='test')\n",
        "plt.xlabel('C')\n",
        "plt.ylabel('acc')\n",
        "plt.title('rbf')\n",
        "plt.legend()\n",
        "plt.show"
      ],
      "metadata": {
        "colab": {
          "base_uri": "https://localhost:8080/",
          "height": 657
        },
        "id": "D-7jqMS6lsMW",
        "outputId": "528c17e4-592e-41c3-e0b5-fbece13fa148"
      },
      "execution_count": null,
      "outputs": [
        {
          "output_type": "stream",
          "name": "stderr",
          "text": [
            "100%|██████████| 40/40 [03:17<00:00,  4.95s/it]\n"
          ]
        },
        {
          "output_type": "execute_result",
          "data": {
            "text/plain": [
              "<function matplotlib.pyplot.show(*args, **kw)>"
            ]
          },
          "metadata": {},
          "execution_count": 198
        },
        {
          "output_type": "display_data",
          "data": {
            "text/plain": [
              "<Figure size 720x720 with 1 Axes>"
            ],
            "image/png": "[encoded data removed]"
          },
          "metadata": {
            "needs_background": "light"
          }
        }
      ]
    },
    {
      "cell_type": "code",
      "source": [
        "#rbf best c\n",
        "idx=test_acc_rbf.index(max(test_acc_rbf))\n",
        "[c_rbf[idx],train_acc_rbf[idx],max(test_acc_rbf)]"
      ],
      "metadata": {
        "colab": {
          "base_uri": "https://localhost:8080/"
        },
        "id": "Oz-2fVTOs2pA",
        "outputId": "a2e7b49f-ab35-4b88-d8a3-2779f7ac7813"
      },
      "execution_count": null,
      "outputs": [
        {
          "output_type": "execute_result",
          "data": {
            "text/plain": [
              "[4.0, 1.0, 0.9455]"
            ]
          },
          "metadata": {},
          "execution_count": 199
        }
      ]
    },
    {
      "cell_type": "code",
      "source": [
        "c_poly=[]\n",
        "train_acc_poly=[]\n",
        "test_acc_poly=[]\n",
        "for i in tqdm.tqdm(range(40)):\n",
        "  c=i/2+0.5\n",
        "  classifier = svm.SVC(C=c,kernel='poly')\n",
        "  classifier.fit(train_data, train_label)\n",
        "  c_poly.append(c)\n",
        "  train_acc_poly.append(classifier.score(train_data, train_label))\n",
        "  test_acc_poly.append(classifier.score(test_data, test_label))\n",
        "plt.figure(figsize=(10, 10))\n",
        "plt.plot(c_poly,train_acc_poly,label='train')\n",
        "plt.plot(c_poly,test_acc_poly,label='test')\n",
        "plt.xlabel('C')\n",
        "plt.ylabel('acc')\n",
        "plt.title('poly')\n",
        "plt.legend()\n",
        "plt.show\n",
        "#best c\n",
        "idx=test_acc_poly.index(max(test_acc_poly))\n",
        "print([c_poly[idx],train_acc_poly[idx],max(test_acc_poly)])"
      ],
      "metadata": {
        "id": "YpH5DJoYN3B7",
        "colab": {
          "base_uri": "https://localhost:8080/",
          "height": 657
        },
        "outputId": "21ec2c22-6b3d-4f16-a597-94b16c487ad5"
      },
      "execution_count": null,
      "outputs": [
        {
          "output_type": "stream",
          "name": "stderr",
          "text": [
            "100%|██████████| 40/40 [01:05<00:00,  1.63s/it]\n"
          ]
        },
        {
          "output_type": "stream",
          "name": "stdout",
          "text": [
            "[10.0, 0.9995, 0.92]\n"
          ]
        },
        {
          "output_type": "display_data",
          "data": {
            "text/plain": [
              "<Figure size 720x720 with 1 Axes>"
            ],
            "image/png": "[encoded data removed]"
          },
          "metadata": {
            "needs_background": "light"
          }
        }
      ]
    },
    {
      "cell_type": "code",
      "source": [
        "c_sigmoid=[]\n",
        "train_acc_sigmoid=[]\n",
        "test_acc_sigmoid=[]\n",
        "for i in tqdm.tqdm(range(40)):\n",
        "  c=i/10+0.1\n",
        "  classifier = svm.SVC(C=c,kernel='sigmoid')\n",
        "  classifier.fit(train_data, train_label)\n",
        "  c_sigmoid.append(c)\n",
        "  train_acc_sigmoid.append(classifier.score(train_data, train_label))\n",
        "  test_acc_sigmoid.append(classifier.score(test_data, test_label))\n",
        "plt.figure(figsize=(10, 10))\n",
        "plt.plot(c_sigmoid,train_acc_sigmoid,label='train')\n",
        "plt.plot(c_sigmoid,test_acc_sigmoid,label='test')\n",
        "plt.xlabel('C')\n",
        "plt.ylabel('acc')\n",
        "plt.title('sigmoid')\n",
        "plt.legend()\n",
        "plt.show\n",
        "\n",
        "#best c\n",
        "idx=test_acc_sigmoid.index(max(test_acc_sigmoid))\n",
        "print([c_sigmoid[idx],train_acc_sigmoid[idx],max(test_acc_sigmoid)])"
      ],
      "metadata": {
        "colab": {
          "base_uri": "https://localhost:8080/",
          "height": 657
        },
        "id": "wr4spj4NsI2u",
        "outputId": "be24d2f3-04de-4d0c-f683-d488a73335a0"
      },
      "execution_count": null,
      "outputs": [
        {
          "output_type": "stream",
          "name": "stderr",
          "text": [
            "100%|██████████| 40/40 [01:27<00:00,  2.19s/it]\n"
          ]
        },
        {
          "output_type": "stream",
          "name": "stdout",
          "text": [
            "[0.4, 0.883, 0.8815]\n"
          ]
        },
        {
          "output_type": "display_data",
          "data": {
            "text/plain": [
              "<Figure size 720x720 with 1 Axes>"
            ],
            "image/png": "[encoded data removed]"
          },
          "metadata": {
            "needs_background": "light"
          }
        }
      ]
    },
    {
      "cell_type": "code",
      "source": [
        "c_linear=[]\n",
        "train_acc_linear=[]\n",
        "test_acc_linear=[]\n",
        "for i in tqdm.tqdm(range(40)):\n",
        "  c=i/2+0.5\n",
        "  classifier = svm.SVC(C=c,kernel='linear')\n",
        "  classifier.fit(train_data, train_label)\n",
        "  c_linear.append(c)\n",
        "  train_acc_linear.append(classifier.score(train_data, train_label))\n",
        "  test_acc_linear.append(classifier.score(test_data, test_label))\n",
        "plt.figure(figsize=(10, 10))\n",
        "plt.plot(c_linear,train_acc_linear,label='train')\n",
        "plt.plot(c_linear,test_acc_linear,label='test')\n",
        "plt.xlabel('C')\n",
        "plt.ylabel('acc')\n",
        "plt.title('linear')\n",
        "plt.legend()\n",
        "plt.show\n",
        "\n",
        "#best c\n",
        "idx=test_acc_linear.index(max(test_acc_linear))\n",
        "print([c_linear[idx],train_acc_linear[idx],max(test_acc_linear)])"
      ],
      "metadata": {
        "colab": {
          "base_uri": "https://localhost:8080/",
          "height": 657
        },
        "id": "FHPUM0Vlr9A2",
        "outputId": "1e44d739-991d-4455-d20e-016cc4c23b7f"
      },
      "execution_count": null,
      "outputs": [
        {
          "output_type": "stream",
          "name": "stderr",
          "text": [
            "100%|██████████| 40/40 [00:55<00:00,  1.38s/it]\n"
          ]
        },
        {
          "output_type": "stream",
          "name": "stdout",
          "text": [
            "[0.5, 1.0, 0.901]\n"
          ]
        },
        {
          "output_type": "display_data",
          "data": {
            "text/plain": [
              "<Figure size 720x720 with 1 Axes>"
            ],
            "image/png": "[encoded data removed]"
          },
          "metadata": {
            "needs_background": "light"
          }
        }
      ]
    },
    {
      "cell_type": "code",
      "source": [],
      "metadata": {
        "id": "cjrMP_i1ju3C"
      },
      "execution_count": null,
      "outputs": []
    }
  ]
}