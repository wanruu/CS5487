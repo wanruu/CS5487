{
  "nbformat": 4,
  "nbformat_minor": 0,
  "metadata": {
    "colab": {
      "provenance": [],
      "mount_file_id": "16Ziee_lUDI0WQS9uBp1CyildHnMeWZJn",
      "authorship_tag": "ABX9TyMt0edndBTs+pAA2EAQwmoO",
      "include_colab_link": true
    },
    "kernelspec": {
      "name": "python3",
      "display_name": "Python 3"
    },
    "language_info": {
      "name": "python"
    }
  },
  "cells": [
    {
      "cell_type": "markdown",
      "metadata": {
        "id": "view-in-github",
        "colab_type": "text"
      },
      "source": [
        "<a href=\"https://colab.research.google.com/github/wanruu/CS5487/blob/main/pca_svm_linear.ipynb\" target=\"_parent\"><img src=\"https://colab.research.google.com/assets/colab-badge.svg\" alt=\"Open In Colab\"/></a>"
      ]
    },
    {
      "cell_type": "code",
      "execution_count": 1,
      "metadata": {
        "id": "Q-3R5hQNDfx8"
      },
      "outputs": [],
      "source": [
        "from sklearn import svm\n",
        "import numpy as np\n",
        "from sklearn.model_selection import train_test_split\n",
        "from sklearn.model_selection import cross_val_score\n",
        "from sklearn.utils import shuffle\n",
        "from sklearn.model_selection import RepeatedKFold\n",
        "\n",
        "\n",
        "from sklearn.cluster import KMeans\n",
        "from sklearn.decomposition import PCA\n",
        "from sklearn.metrics.cluster import contingency_matrix\n",
        "\n",
        "import matplotlib.pyplot as plt\n",
        "import tqdm"
      ]
    },
    {
      "cell_type": "code",
      "source": [
        "vecs=np.loadtxt('/content/drive/MyDrive/Colab_Notebooks/digits4000_txt/digits4000_digits_vec.txt')\n",
        "labels=np.loadtxt('/content/drive/MyDrive/Colab_Notebooks/digits4000_txt/digits4000_digits_labels.txt')"
      ],
      "metadata": {
        "id": "vICPMFx0Dkuv"
      },
      "execution_count": 2,
      "outputs": []
    },
    {
      "cell_type": "code",
      "source": [
        "pca_components=[]\n",
        "pca_train_acc=[]\n",
        "pca_test_acc=[]\n",
        "for i in tqdm.tqdm(range(734)):\n",
        "  #pca with i+1 eigenvalues\n",
        "  pca_component=i+50\n",
        "  pca = PCA(n_components=pca_component)\n",
        "  pca_data = pca.fit_transform(vecs)\n",
        "\n",
        "  pca_train_data=pca_data[:2000]\n",
        "  pca_test_data=pca_data[2000:]\n",
        "  train_label=labels[:2000]\n",
        "  test_label=labels[2000:]\n",
        "\n",
        "  #shuffle\n",
        "  pca_train_data, pca_train_label = shuffle(pca_train_data, train_label, random_state=123)\n",
        "  pca_test_data, pca_test_label = shuffle(pca_test_data, test_label, random_state=123)\n",
        "  \n",
        "  #svm with 'rbf' kernel C=4\n",
        "  #svm with 'poly' kernel C=10\n",
        "  #svm with 'sigmoid' kernel C=0.4\n",
        "  #svm with 'linear' kernel C=any\n",
        "  classifier = svm.SVC(C=10,kernel='linear')\n",
        "  classifier.fit(pca_train_data, pca_train_label)\n",
        "\n",
        "  pca_components.append(pca_component)# # of eigenvalues\n",
        "  pca_train_acc.append(classifier.score(pca_train_data, pca_train_label))# train_acc\n",
        "  pca_test_acc.append(classifier.score(pca_test_data, pca_test_label))# test_acc\n",
        "\n",
        "plt.figure(figsize=(10, 10))\n",
        "plt.plot(pca_components,pca_train_acc,label='train')\n",
        "plt.plot(pca_components,pca_test_acc,label='test')\n",
        "plt.xlabel('pca_components')\n",
        "plt.ylabel('acc')\n",
        "plt.title('pca_linear')\n",
        "plt.legend()\n",
        "plt.show\n",
        "\n",
        "#best pca\n",
        "idx=pca_test_acc.index(max(pca_test_acc))\n",
        "print([pca_components[idx],pca_train_acc[idx],max(pca_test_acc)])"
      ],
      "metadata": {
        "colab": {
          "base_uri": "https://localhost:8080/",
          "height": 658
        },
        "id": "MTuznVCCDnbH",
        "outputId": "c0ef40dc-256a-47ec-81da-923095d7da4e"
      },
      "execution_count": 3,
      "outputs": [
        {
          "output_type": "stream",
          "name": "stderr",
          "text": [
            "100%|██████████| 734/734 [28:36<00:00,  2.34s/it]\n"
          ]
        },
        {
          "output_type": "stream",
          "name": "stdout",
          "text": [
            "[302, 1.0, 0.9015]\n"
          ]
        },
        {
          "output_type": "display_data",
          "data": {
            "text/plain": [
              "<Figure size 720x720 with 1 Axes>"
            ],
            "image/png": "[encoded data removed]"
          },
          "metadata": {
            "needs_background": "light"
          }
        }
      ]
    }
  ]
}