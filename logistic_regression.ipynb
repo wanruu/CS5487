{
  "nbformat": 4,
  "nbformat_minor": 0,
  "metadata": {
    "colab": {
      "provenance": [],
      "mount_file_id": "1dnBEdznPMh6p-PQjUYV3wle_NANGslc9",
      "authorship_tag": "ABX9TyMBf+2dqpQNSYDfEIq8Wh7f",
      "include_colab_link": true
    },
    "kernelspec": {
      "name": "python3",
      "display_name": "Python 3"
    },
    "language_info": {
      "name": "python"
    },
    "gpuClass": "standard"
  },
  "cells": [
    {
      "cell_type": "markdown",
      "metadata": {
        "id": "view-in-github",
        "colab_type": "text"
      },
      "source": [
        "<a href=\"https://colab.research.google.com/github/wanruu/CS5487/blob/main/logistic_regression.ipynb\" target=\"_parent\"><img src=\"https://colab.research.google.com/assets/colab-badge.svg\" alt=\"Open In Colab\"/></a>"
      ]
    },
    {
      "cell_type": "code",
      "execution_count": null,
      "metadata": {
        "id": "MYBD0KxbkFpU"
      },
      "outputs": [],
      "source": [
        "import torch \n",
        "import torch.nn as nn\n",
        "from torch.autograd import Variable\n",
        "# torchvision可以帮助我们处理常用数据集，如MNIST，COCO, ImageNET等\n",
        "import torchvision.datasets as dsets\n",
        "import torchvision.transforms as transforms\n",
        "import numpy as np\n",
        "import matplotlib.pyplot as plt\n",
        "import torchvision\n",
        "from skimage import data,img_as_float\n",
        "# hyper parameter\n",
        "input_size = 28 * 28 # image size of MNIST data\n",
        "num_classes = 10\n",
        "num_epochs = 50\n",
        "batch_size = 64\n",
        "learning_rate = 1e-3\n",
        "\n"
      ]
    },
    {
      "cell_type": "code",
      "source": [
        "import scipy.io\n",
        "from torch.utils.data import Dataset\n",
        "\n",
        "\n",
        "class MyDataset(Dataset):\n",
        "    def __init__(self, filepath, filetype=\"mat\", train=True, cross_idx=0):\n",
        "        # Read data from mat file.\n",
        "        # Extract all data.\n",
        "        if filetype == \"mat\":\n",
        "            mat_data = scipy.io.loadmat(filepath)\n",
        "            labels = mat_data[\"digits_labels\"]  # (1,4000)\n",
        "            imgs = mat_data[\"digits_vec\"]  # (784,4000)\n",
        "            trainset = mat_data[\"trainset\"][cross_idx] - 1  # (2,2000) -> (2000,)\n",
        "            testset = mat_data[\"testset\"][cross_idx] - 1  # (2,2000) -> (2000,)\n",
        "        if train:\n",
        "            self.imgs = imgs[:,trainset]  # (784,2000)\n",
        "            self.labels = labels[:,trainset]  # (1,2000)\n",
        "        else:\n",
        "            self.imgs = imgs[:,testset]  # (784,2000)\n",
        "            self.labels = labels[:,testset] # (1,2000)\n",
        "\n",
        "    def __getitem__(self, index):\n",
        "        return self.imgs[:,index], self.labels[:,index]\n",
        "        \n",
        "\n",
        "    def __len__(self):\n",
        "        return self.labels.shape[1]\n",
        "\n",
        "\n",
        "# # Sample\n",
        "# if __name__ == \"__main__\":\n",
        "#     from config import DIGITS_MAT_PATH\n",
        "#     train_cross_1 = MyDataset(DIGITS_MAT_PATH, \"mat\", True, 0)\n",
        "#     test_cross_1 = MyDataset(DIGITS_MAT_PATH, \"mat\", False, 0)\n",
        "#     train_cross_2 = MyDataset(DIGITS_MAT_PATH, \"mat\", True, 1)\n",
        "#     test_cross_2 = MyDataset(DIGITS_MAT_PATH, \"mat\", False, 1)"
      ],
      "metadata": {
        "id": "1s6IWH75SLxT"
      },
      "execution_count": null,
      "outputs": []
    },
    {
      "cell_type": "code",
      "source": [
        "DIGITS_MAT_PATH='/content/drive/MyDrive/Colab_Notebooks/digits4000.mat'\n",
        "\n",
        "train_cross_1 = MyDataset(DIGITS_MAT_PATH, \"mat\", True, 0)\n",
        "test_cross_1 = MyDataset(DIGITS_MAT_PATH, \"mat\", False, 0)\n",
        "train_cross_2 = MyDataset(DIGITS_MAT_PATH, \"mat\", True, 1)\n",
        "test_cross_2 = MyDataset(DIGITS_MAT_PATH, \"mat\", False, 1)"
      ],
      "metadata": {
        "id": "rSz-vLgzSUcB"
      },
      "execution_count": null,
      "outputs": []
    },
    {
      "cell_type": "code",
      "source": [],
      "metadata": {
        "id": "x3ct9dvCTR3O"
      },
      "execution_count": null,
      "outputs": []
    },
    {
      "cell_type": "code",
      "source": [
        "#model\n",
        "\n",
        "#加载数据\n",
        "\n",
        "train_loader = torch.utils.data.DataLoader(dataset = train_cross_1, \n",
        "                                           batch_size = batch_size, \n",
        "                                           shuffle = True)  \n",
        "test_loader = torch.utils.data.DataLoader(dataset = test_cross_1,\n",
        "                                          batch_size = batch_size,\n",
        "                                          shuffle = True)\n",
        "\n",
        "# 定义网络\n",
        "class logistic_regression(nn.Module):\n",
        "    def __init__(self,input_size, num_classes):\n",
        "        super(logistic_regression, self).__init__()\n",
        "        self.linear = nn.Linear(input_size, num_classes)\n",
        "\n",
        "    def forward(self, x):\n",
        "        out = self.linear(x)\n",
        "        return out\n",
        "\n",
        "model = logistic_regression(input_size, num_classes)\n",
        "print(model)"
      ],
      "metadata": {
        "colab": {
          "base_uri": "https://localhost:8080/"
        },
        "id": "_tonxiuuknSB",
        "outputId": "a0a73eb7-ac88-40c1-c349-47152f60d233"
      },
      "execution_count": null,
      "outputs": [
        {
          "output_type": "stream",
          "name": "stdout",
          "text": [
            "logistic_regression(\n",
            "  (linear): Linear(in_features=784, out_features=10, bias=True)\n",
            ")\n"
          ]
        }
      ]
    },
    {
      "cell_type": "code",
      "source": [
        "for i, (images, labels) in enumerate(train_loader): #利用enumerate取出一个可迭代对象的内容\n",
        "        images = Variable(images.view(-1, 28 * 28))\n",
        "        labels = Variable(labels)\n",
        "        break"
      ],
      "metadata": {
        "id": "W1MqLB-6T7un"
      },
      "execution_count": null,
      "outputs": []
    },
    {
      "cell_type": "code",
      "source": [
        "labels.shape"
      ],
      "metadata": {
        "colab": {
          "base_uri": "https://localhost:8080/"
        },
        "id": "yVm5QZMnXQft",
        "outputId": "d2133286-6a7a-4e58-a748-bc5bdfa04d36"
      },
      "execution_count": null,
      "outputs": [
        {
          "output_type": "execute_result",
          "data": {
            "text/plain": [
              "torch.Size([64, 1])"
            ]
          },
          "metadata": {},
          "execution_count": 168
        }
      ]
    },
    {
      "cell_type": "code",
      "source": [
        "labels.squeeze().shape"
      ],
      "metadata": {
        "colab": {
          "base_uri": "https://localhost:8080/"
        },
        "id": "TpawsDklkU_r",
        "outputId": "6c8784cf-d351-444d-af26-c84e7278c83f"
      },
      "execution_count": null,
      "outputs": [
        {
          "output_type": "execute_result",
          "data": {
            "text/plain": [
              "torch.Size([64])"
            ]
          },
          "metadata": {},
          "execution_count": 166
        }
      ]
    },
    {
      "cell_type": "code",
      "source": [
        "#train\n",
        "# optimization\n",
        "\n",
        "criterion = nn.CrossEntropyLoss() # 交叉熵损失\n",
        "optimizer = torch.optim.SGD(model.parameters(), lr = learning_rate)\n",
        "\n",
        "#print(train_loader)\n",
        "model.train()\n",
        "for epoch in range(100):\n",
        "#for epoch in range(2):\n",
        "    print(' epoch = %d' % epoch)\n",
        "    for i, (images, labels) in enumerate(train_loader): #利用enumerate取出一个可迭代对象的内容\n",
        "        images = Variable(images.view(-1, 28 * 28))\n",
        "        labels = Variable(labels.squeeze())\n",
        "\n",
        "        optimizer.zero_grad()\n",
        "        outputs = model(images.float())\n",
        "        loss = criterion(outputs, labels)\n",
        "        loss.backward()\n",
        "        optimizer.step()\n",
        "\n",
        "        if  i % 100 == 0:\n",
        "            print('current loss = %.5f' % loss.data)\n",
        "\n",
        "    #print(np.shape(images))\n"
      ],
      "metadata": {
        "colab": {
          "base_uri": "https://localhost:8080/"
        },
        "id": "3ZHniD-8kr_R",
        "outputId": "c349bd00-b792-40f6-a7c6-1bf68fa8fbc4"
      },
      "execution_count": null,
      "outputs": [
        {
          "output_type": "stream",
          "name": "stdout",
          "text": [
            " epoch = 0\n",
            "current loss = 73.94708\n",
            " epoch = 1\n",
            "current loss = 26.06924\n",
            " epoch = 2\n",
            "current loss = 101.36839\n",
            " epoch = 3\n",
            "current loss = 8.64742\n",
            " epoch = 4\n",
            "current loss = 24.69844\n",
            " epoch = 5\n",
            "current loss = 21.14187\n",
            " epoch = 6\n",
            "current loss = 22.67946\n",
            " epoch = 7\n",
            "current loss = 31.66484\n",
            " epoch = 8\n",
            "current loss = 174.71194\n",
            " epoch = 9\n",
            "current loss = 7.04019\n",
            " epoch = 10\n",
            "current loss = 18.54757\n",
            " epoch = 11\n",
            "current loss = 13.65016\n",
            " epoch = 12\n",
            "current loss = 11.77247\n",
            " epoch = 13\n",
            "current loss = 14.65736\n",
            " epoch = 14\n",
            "current loss = 2.51129\n",
            " epoch = 15\n",
            "current loss = 1.95141\n",
            " epoch = 16\n",
            "current loss = 9.66569\n",
            " epoch = 17\n",
            "current loss = 25.39056\n",
            " epoch = 18\n",
            "current loss = 0.96778\n",
            " epoch = 19\n",
            "current loss = 7.08971\n",
            " epoch = 20\n",
            "current loss = 7.05995\n",
            " epoch = 21\n",
            "current loss = 1.35463\n",
            " epoch = 22\n",
            "current loss = 6.29378\n",
            " epoch = 23\n",
            "current loss = 0.29007\n",
            " epoch = 24\n",
            "current loss = 0.91907\n",
            " epoch = 25\n",
            "current loss = 100.23642\n",
            " epoch = 26\n",
            "current loss = 1.84908\n",
            " epoch = 27\n",
            "current loss = 3.16808\n",
            " epoch = 28\n",
            "current loss = 0.00003\n",
            " epoch = 29\n",
            "current loss = 1.90187\n",
            " epoch = 30\n",
            "current loss = 3.51418\n",
            " epoch = 31\n",
            "current loss = 0.20151\n",
            " epoch = 32\n",
            "current loss = 4.09816\n",
            " epoch = 33\n",
            "current loss = 0.00000\n",
            " epoch = 34\n",
            "current loss = 0.00000\n",
            " epoch = 35\n",
            "current loss = 0.00000\n",
            " epoch = 36\n",
            "current loss = 0.06413\n",
            " epoch = 37\n",
            "current loss = 0.00000\n",
            " epoch = 38\n",
            "current loss = 0.00000\n",
            " epoch = 39\n",
            "current loss = 0.00000\n",
            " epoch = 40\n",
            "current loss = 0.00000\n",
            " epoch = 41\n",
            "current loss = 0.00000\n",
            " epoch = 42\n",
            "current loss = 0.00000\n",
            " epoch = 43\n",
            "current loss = 0.00000\n",
            " epoch = 44\n",
            "current loss = 0.00000\n",
            " epoch = 45\n",
            "current loss = 0.00000\n",
            " epoch = 46\n",
            "current loss = 0.00000\n",
            " epoch = 47\n",
            "current loss = 0.00000\n",
            " epoch = 48\n",
            "current loss = 0.00000\n",
            " epoch = 49\n",
            "current loss = 0.00000\n",
            " epoch = 50\n",
            "current loss = 0.00000\n",
            " epoch = 51\n",
            "current loss = 0.00000\n",
            " epoch = 52\n",
            "current loss = 0.00000\n",
            " epoch = 53\n",
            "current loss = 0.00000\n",
            " epoch = 54\n",
            "current loss = 0.00000\n",
            " epoch = 55\n",
            "current loss = 0.00000\n",
            " epoch = 56\n",
            "current loss = 0.00000\n",
            " epoch = 57\n",
            "current loss = 0.00000\n",
            " epoch = 58\n",
            "current loss = 0.00000\n",
            " epoch = 59\n",
            "current loss = 0.00000\n",
            " epoch = 60\n",
            "current loss = 0.00000\n",
            " epoch = 61\n",
            "current loss = 0.00000\n",
            " epoch = 62\n",
            "current loss = 0.00000\n",
            " epoch = 63\n",
            "current loss = 0.00000\n",
            " epoch = 64\n",
            "current loss = 0.00000\n",
            " epoch = 65\n",
            "current loss = 0.00000\n",
            " epoch = 66\n",
            "current loss = 0.00000\n",
            " epoch = 67\n",
            "current loss = 0.00000\n",
            " epoch = 68\n",
            "current loss = 0.00000\n",
            " epoch = 69\n",
            "current loss = 0.00000\n",
            " epoch = 70\n",
            "current loss = 0.00000\n",
            " epoch = 71\n",
            "current loss = 0.00000\n",
            " epoch = 72\n",
            "current loss = 0.00000\n",
            " epoch = 73\n",
            "current loss = 0.00000\n",
            " epoch = 74\n",
            "current loss = 0.00000\n",
            " epoch = 75\n",
            "current loss = 0.00000\n",
            " epoch = 76\n",
            "current loss = 0.00000\n",
            " epoch = 77\n",
            "current loss = 0.00000\n",
            " epoch = 78\n",
            "current loss = 0.00000\n",
            " epoch = 79\n",
            "current loss = 0.00000\n",
            " epoch = 80\n",
            "current loss = 0.00000\n",
            " epoch = 81\n",
            "current loss = 0.00000\n",
            " epoch = 82\n",
            "current loss = 0.00000\n",
            " epoch = 83\n",
            "current loss = 0.00000\n",
            " epoch = 84\n",
            "current loss = 0.00000\n",
            " epoch = 85\n",
            "current loss = 0.00000\n",
            " epoch = 86\n",
            "current loss = 0.00000\n",
            " epoch = 87\n",
            "current loss = 0.00000\n",
            " epoch = 88\n",
            "current loss = 0.00000\n",
            " epoch = 89\n",
            "current loss = 0.00000\n",
            " epoch = 90\n",
            "current loss = 0.00000\n",
            " epoch = 91\n",
            "current loss = 0.00000\n",
            " epoch = 92\n",
            "current loss = 0.00000\n",
            " epoch = 93\n",
            "current loss = 0.00000\n",
            " epoch = 94\n",
            "current loss = 0.00000\n",
            " epoch = 95\n",
            "current loss = 0.00000\n",
            " epoch = 96\n",
            "current loss = 0.00000\n",
            " epoch = 97\n",
            "current loss = 0.00000\n",
            " epoch = 98\n",
            "current loss = 0.00000\n",
            " epoch = 99\n",
            "current loss = 0.00000\n"
          ]
        }
      ]
    },
    {
      "cell_type": "code",
      "source": [
        "#test\n",
        "# test the model\n",
        "correct = 0\n",
        "total = 0\n",
        "model.eval()\n",
        "for images, labels in test_loader:\n",
        "    images = Variable(images.view(-1, 28 * 28))\n",
        "    labels = Variable(labels.squeeze())\n",
        "    outputs = model(images.float())\n",
        "    #torch.max(x, n) 沿着n维进行某种操作。得到的是某一维度的最大值之类的，如果不加维度n，则返回所有元素的最大值之类的\n",
        "    _, predicted = torch.max(outputs.data, 1)\n",
        "    total += labels.size(0)\n",
        "    print(total)\n",
        "    print(correct)\n",
        "    correct += (predicted == labels).sum()\n",
        "\n",
        "print('accuracy of the model %.2f' % (100 * correct / total))"
      ],
      "metadata": {
        "colab": {
          "base_uri": "https://localhost:8080/"
        },
        "id": "MJtUr_LMk0xR",
        "outputId": "bd55986a-e711-4bfd-b03b-c94a0c618a1c"
      },
      "execution_count": null,
      "outputs": [
        {
          "output_type": "stream",
          "name": "stdout",
          "text": [
            "64\n",
            "0\n",
            "128\n",
            "tensor(50)\n",
            "192\n",
            "tensor(108)\n",
            "256\n",
            "tensor(167)\n",
            "320\n",
            "tensor(227)\n",
            "384\n",
            "tensor(284)\n",
            "448\n",
            "tensor(339)\n",
            "512\n",
            "tensor(394)\n",
            "576\n",
            "tensor(448)\n",
            "640\n",
            "tensor(506)\n",
            "704\n",
            "tensor(556)\n",
            "768\n",
            "tensor(610)\n",
            "832\n",
            "tensor(667)\n",
            "896\n",
            "tensor(726)\n",
            "960\n",
            "tensor(784)\n",
            "1024\n",
            "tensor(837)\n",
            "1088\n",
            "tensor(893)\n",
            "1152\n",
            "tensor(948)\n",
            "1216\n",
            "tensor(1007)\n",
            "1280\n",
            "tensor(1066)\n",
            "1344\n",
            "tensor(1119)\n",
            "1408\n",
            "tensor(1177)\n",
            "1472\n",
            "tensor(1235)\n",
            "1536\n",
            "tensor(1286)\n",
            "1600\n",
            "tensor(1342)\n",
            "1664\n",
            "tensor(1395)\n",
            "1728\n",
            "tensor(1447)\n",
            "1792\n",
            "tensor(1505)\n",
            "1856\n",
            "tensor(1561)\n",
            "1920\n",
            "tensor(1613)\n",
            "1984\n",
            "tensor(1671)\n",
            "2000\n",
            "tensor(1722)\n",
            "accuracy of the model 86.75\n"
          ]
        }
      ]
    },
    {
      "cell_type": "code",
      "source": [
        "predicted"
      ],
      "metadata": {
        "colab": {
          "base_uri": "https://localhost:8080/"
        },
        "id": "h8EOInkqdIgd",
        "outputId": "7825bd94-b4cf-4b63-a168-b2a0e299f02d"
      },
      "execution_count": null,
      "outputs": [
        {
          "output_type": "execute_result",
          "data": {
            "text/plain": [
              "tensor([9, 0, 7, 5, 2, 2, 6, 3, 3, 5, 0, 6, 3, 3, 2, 3])"
            ]
          },
          "metadata": {},
          "execution_count": 144
        }
      ]
    },
    {
      "cell_type": "code",
      "source": [
        "labels"
      ],
      "metadata": {
        "colab": {
          "base_uri": "https://localhost:8080/"
        },
        "id": "OCwWYVQ1evdO",
        "outputId": "60698b28-ffd6-4384-f14e-845f63e1e0a0"
      },
      "execution_count": null,
      "outputs": [
        {
          "output_type": "execute_result",
          "data": {
            "text/plain": [
              "tensor([[9],\n",
              "        [0],\n",
              "        [7],\n",
              "        [5],\n",
              "        [2],\n",
              "        [5],\n",
              "        [6],\n",
              "        [8],\n",
              "        [5],\n",
              "        [3],\n",
              "        [0],\n",
              "        [6],\n",
              "        [3],\n",
              "        [3],\n",
              "        [2],\n",
              "        [3]], dtype=torch.uint8)"
            ]
          },
          "metadata": {},
          "execution_count": 145
        }
      ]
    }
  ]
}